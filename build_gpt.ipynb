{
 "cells": [
  {
   "attachments": {},
   "cell_type": "markdown",
   "metadata": {},
   "source": [
    "Cells below were created as notes while watching Andrej Karpathy's video \"[Let's build GPT: from scratch, in code, spelled out.\n",
    "](https://www.youtube.com/watch?v=kCc8FmEb1nY)\". Check it out if you haven't!\n"
   ]
  },
  {
   "attachments": {},
   "cell_type": "markdown",
   "metadata": {},
   "source": [
    "### Tokens - encoding text to a numeric format\n",
    "\n",
    "Tokens are numerical representations of the smallest meaningful units of text in natural language. They can represent words, subwords, characters or even symbols.\n"
   ]
  },
  {
   "attachments": {},
   "cell_type": "markdown",
   "metadata": {},
   "source": [
    "As an example, let's look at the tokens used in GPT-2:\n"
   ]
  },
  {
   "cell_type": "code",
   "execution_count": 3,
   "metadata": {},
   "outputs": [
    {
     "name": "stderr",
     "output_type": "stream",
     "text": [
      "/home/jonathanb/git/nlp-refresher/venv/lib/python3.8/site-packages/tqdm/auto.py:21: TqdmWarning: IProgress not found. Please update jupyter and ipywidgets. See https://ipywidgets.readthedocs.io/en/stable/user_install.html\n",
      "  from .autonotebook import tqdm as notebook_tqdm\n"
     ]
    },
    {
     "name": "stdout",
     "output_type": "stream",
     "text": [
      "['A', ' string', ' to', ' demonstrate', ' the', ' token', 'izer', '.']\n",
      "[32, 4731, 284, 10176, 262, 11241, 7509, 13]\n"
     ]
    }
   ],
   "source": [
    "from transformers import GPT2Tokenizer\n",
    "\n",
    "# This is the tokenizer used by GPT-2.\n",
    "tokenizer = GPT2Tokenizer.from_pretrained(\"gpt2\")\n",
    "\n",
    "test_str = \"A string to demonstrate the tokenizer.\"\n",
    "\n",
    "# GPT-2 used a subword tokenizer, meaning that each token corresponds to part of a word\n",
    "str_enc = tokenizer.encode(test_str)  # Tokenized string\n",
    "print([tokenizer.decode([s]) for s in str_enc])\n",
    "print(str_enc)\n"
   ]
  },
  {
   "attachments": {},
   "cell_type": "markdown",
   "metadata": {},
   "source": [
    "As can be seen, the text was split into pieces corresponding to a combination of words, subwords and special characters and converted into tokens in the form of integers.\n"
   ]
  },
  {
   "attachments": {},
   "cell_type": "markdown",
   "metadata": {},
   "source": [
    "The set of available tokens is called the _vocabulary_.\n"
   ]
  },
  {
   "cell_type": "code",
   "execution_count": 4,
   "metadata": {},
   "outputs": [
    {
     "name": "stdout",
     "output_type": "stream",
     "text": [
      "[' refreshed', 'Enc', ' accommodations', ' explicitly', ' Plex', ' glyc', ' flies', 'POS', 'abilia', 'icates', ' Beta', ' Buk', ' Race', '10', 'ARC', 'NET', 'usterity', ' Vote', ' Ru', ' bout']\n",
      "Vocab size: 50257\n"
     ]
    }
   ],
   "source": [
    "from random import sample\n",
    "\n",
    "# Let's decode a few tokens back to text and print them...\n",
    "tokens = tokenizer.get_vocab().keys()\n",
    "print([tokenizer.convert_tokens_to_string([t]) for t in sample(tokens, 20)])\n",
    "\n",
    "print(f\"Vocab size: {tokenizer.vocab_size}\")\n"
   ]
  },
  {
   "cell_type": "code",
   "execution_count": 5,
   "metadata": {},
   "outputs": [
    {
     "name": "stdout",
     "output_type": "stream",
     "text": [
      "Length of text: 6\n",
      "Length of encoded seq: 8\n"
     ]
    }
   ],
   "source": [
    "# For this tokenizer, tokens correspond to subwords. Because of this, the encoded sequence is longer than the amount of words in the text.\n",
    "print(f\"Length of text: {len(test_str.split(' '))}\")\n",
    "print(f\"Length of encoded seq: {len(str_enc)}\")\n"
   ]
  },
  {
   "attachments": {},
   "cell_type": "markdown",
   "metadata": {},
   "source": [
    "For this example, we will be using text from Shakespeare as our corpus.\n"
   ]
  },
  {
   "cell_type": "code",
   "execution_count": 6,
   "metadata": {},
   "outputs": [
    {
     "name": "stdout",
     "output_type": "stream",
     "text": [
      "First Citizen:\n",
      "Before we proceed any further, hear me speak.\n",
      "\n",
      "All:\n",
      "Speak, speak.\n",
      "\n",
      "First Citizen:\n",
      "You are all resolved rather to die than to famish?\n",
      "\n",
      "All:\n",
      "Resolved. resolved.\n",
      "\n",
      "First Citizen:\n",
      "First, you know Caius Marcius is chief enemy to the people.\n",
      "\n",
      "All:\n",
      "We know't, we know't.\n",
      "\n",
      "First Citizen:\n",
      "Let us\n"
     ]
    }
   ],
   "source": [
    "# Load data\n",
    "with open(\"input.txt\", \"r\", encoding=\"utf-8\") as f:\n",
    "    text = f.read()\n",
    "\n",
    "print(text[:300])\n"
   ]
  },
  {
   "attachments": {},
   "cell_type": "markdown",
   "metadata": {},
   "source": [
    "We will be using a very simple tokenization scheme - encoding single characters as tokens.\n",
    "\n",
    "Therefore, our vocabulary will consist of all symbols used in the text.\n"
   ]
  },
  {
   "cell_type": "code",
   "execution_count": 7,
   "metadata": {},
   "outputs": [
    {
     "name": "stdout",
     "output_type": "stream",
     "text": [
      "\n",
      " !$&',-.3:;?ABCDEFGHIJKLMNOPQRSTUVWXYZabcdefghijklmnopqrstuvwxyz\n",
      "Vocab size: 65\n"
     ]
    }
   ],
   "source": [
    "vocab = sorted(list(set(text)))\n",
    "print(\"\".join(vocab))\n",
    "\n",
    "vocab_size = len(vocab)\n",
    "print(f\"Vocab size: {vocab_size}\")\n"
   ]
  },
  {
   "attachments": {},
   "cell_type": "markdown",
   "metadata": {},
   "source": [
    "Note that our vocabulary is much smaller compared to the GPT-2 tokenizer. Keep this in mind as we continue!\n"
   ]
  },
  {
   "cell_type": "code",
   "execution_count": 8,
   "metadata": {},
   "outputs": [],
   "source": [
    "# Simple tokenization scheme by using the character's index in the vocabulary as its token.\n",
    "stoi = {ch: i for i, ch in enumerate(vocab)}  # string-to-integer\n",
    "itos = {i: ch for i, ch in enumerate(vocab)}  # integer-to-string\n",
    "\n",
    "encode = lambda s: [stoi[c] for c in s]\n",
    "decode = lambda l: \"\".join([itos[i] for i in l])\n"
   ]
  },
  {
   "attachments": {},
   "cell_type": "markdown",
   "metadata": {},
   "source": [
    "Let's encode our original example text again, now using this simple tokenizer\n"
   ]
  },
  {
   "cell_type": "code",
   "execution_count": 9,
   "metadata": {},
   "outputs": [
    {
     "name": "stdout",
     "output_type": "stream",
     "text": [
      "[13, 1, 57, 58, 56, 47, 52, 45, 1, 58, 53, 1, 42, 43, 51, 53, 52, 57, 58, 56, 39, 58, 43, 1, 58, 46, 43, 1, 58, 53, 49, 43, 52, 47, 64, 43, 56, 8]\n",
      "A string to demonstrate the tokenizer.\n"
     ]
    }
   ],
   "source": [
    "print(encode(test_str))\n",
    "print(decode(encode(test_str)))\n"
   ]
  },
  {
   "attachments": {},
   "cell_type": "markdown",
   "metadata": {},
   "source": [
    "Let's check how our encoded sequence compares to the original text in length now.\n"
   ]
  },
  {
   "cell_type": "code",
   "execution_count": 10,
   "metadata": {},
   "outputs": [
    {
     "name": "stdout",
     "output_type": "stream",
     "text": [
      "Length of text: 6\n",
      "Length of encoded seq: 38\n"
     ]
    }
   ],
   "source": [
    "print(f\"Length of text: {len(test_str.split(' '))}\")\n",
    "print(f\"Length of encoded seq: {len(encode(test_str))}\")\n"
   ]
  },
  {
   "attachments": {},
   "cell_type": "markdown",
   "metadata": {},
   "source": [
    "See how it is much longer? Since we are using a smaller vocabulary, we must use more tokens to encode our sequences.\n",
    "\n",
    "This shows the inherent relationship between vocabulary size and sequence length - a smaller vocabulary results in longer sequences.\n"
   ]
  },
  {
   "cell_type": "code",
   "execution_count": 11,
   "metadata": {},
   "outputs": [
    {
     "name": "stdout",
     "output_type": "stream",
     "text": [
      "tensor([18, 47, 56, 57, 58,  1, 15, 47, 58, 47, 64, 43, 52, 10,  0, 14, 43, 44,\n",
      "        53, 56, 43,  1, 61, 43,  1, 54, 56, 53, 41, 43, 43, 42,  1, 39, 52, 63,\n",
      "         1, 44, 59, 56, 58, 46, 43, 56,  6,  1, 46, 43, 39, 56,  1, 51, 43,  1,\n",
      "        57, 54, 43, 39, 49,  8,  0,  0, 13, 50, 50, 10,  0, 31, 54, 43, 39, 49,\n",
      "         6,  1, 57, 54, 43, 39, 49,  8,  0,  0, 18, 47, 56, 57, 58,  1, 15, 47,\n",
      "        58, 47, 64, 43, 52, 10,  0, 37, 53, 59])\n"
     ]
    }
   ],
   "source": [
    "import torch\n",
    "\n",
    "data = torch.tensor(encode(text), dtype=torch.long)\n",
    "print(data[:100])\n"
   ]
  },
  {
   "cell_type": "code",
   "execution_count": 12,
   "metadata": {},
   "outputs": [],
   "source": [
    "n = int(0.9 * len(data))\n",
    "train_data = data[:n]\n",
    "val_data = data[n:]\n"
   ]
  },
  {
   "cell_type": "code",
   "execution_count": 13,
   "metadata": {},
   "outputs": [
    {
     "data": {
      "text/plain": [
       "tensor([18, 47, 56, 57, 58,  1, 15, 47, 58, 47, 64, 43, 52, 10,  0, 14, 43])"
      ]
     },
     "execution_count": 13,
     "metadata": {},
     "output_type": "execute_result"
    }
   ],
   "source": [
    "block_size = 16\n",
    "train_data[: block_size + 1]\n"
   ]
  },
  {
   "attachments": {},
   "cell_type": "markdown",
   "metadata": {},
   "source": [
    "### Bigram model\n",
    "\n",
    "Let's build arguably the simplest language model possible - a bigram model, which predicts the next token based on the previous token only. This means that we are modeling our text as Markov process, where the probability of the next state (token) only depends on the present state (the previous token),\n"
   ]
  },
  {
   "cell_type": "code",
   "execution_count": 14,
   "metadata": {},
   "outputs": [],
   "source": [
    "batch_size = 4\n",
    "block_size = 8\n",
    "\n",
    "\n",
    "def get_batch(split):\n",
    "    data = train_data if split == \"train\" else val_data\n",
    "    ix = torch.randint(len(data) - block_size, (batch_size,))\n",
    "    x = torch.stack([data[i : i + block_size] for i in ix])\n",
    "    y = torch.stack([data[i + 1 : i + block_size + 1] for i in ix])\n",
    "    return x, y\n"
   ]
  },
  {
   "cell_type": "code",
   "execution_count": 15,
   "metadata": {},
   "outputs": [],
   "source": [
    "import torch.nn as nn\n",
    "import torch.nn.functional as F\n",
    "\n",
    "\n",
    "class BigramLanguageModel(nn.Module):\n",
    "    def __init__(self, vocab_size) -> None:\n",
    "        super().__init__()\n",
    "\n",
    "        self.embedding = torch.nn.Embedding(vocab_size, vocab_size)\n",
    "\n",
    "    def forward(self, idx, targets=None):\n",
    "        logits = self.embedding(idx)\n",
    "\n",
    "        if targets is not None:\n",
    "            B, T, C = logits.shape\n",
    "            logits_ = logits.view(B * T, C)\n",
    "            targets = targets.view(B * T)\n",
    "            loss = F.cross_entropy(logits_, targets)\n",
    "        else:\n",
    "            loss = None\n",
    "\n",
    "        return logits, loss\n",
    "\n",
    "    def generate(self, idx, num_steps):\n",
    "        for _ in range(num_steps):\n",
    "            logits, _ = self.forward(idx)\n",
    "            logits = logits[:, -1, :]\n",
    "\n",
    "            # Note: Sampling is probabilistic.\n",
    "            probs = F.softmax(logits, dim=-1)\n",
    "\n",
    "            idx_next = torch.multinomial(probs, num_samples=1)\n",
    "            idx = torch.cat((idx, idx_next), dim=1)\n",
    "\n",
    "        return idx\n",
    "\n",
    "\n",
    "model = BigramLanguageModel(vocab_size)\n"
   ]
  },
  {
   "cell_type": "code",
   "execution_count": 16,
   "metadata": {},
   "outputs": [
    {
     "name": "stdout",
     "output_type": "stream",
     "text": [
      "Train loss: 4.890367031097412\n",
      "Train loss: 3.279221773147583\n",
      "Train loss: 2.6370930671691895\n",
      "Train loss: 2.79683518409729\n",
      "Train loss: 2.7508437633514404\n",
      "Train loss: 2.8681375980377197\n",
      "Train loss: 2.367644786834717\n",
      "Train loss: 2.5374605655670166\n",
      "Train loss: 2.2663519382476807\n",
      "Train loss: 2.4319400787353516\n"
     ]
    }
   ],
   "source": [
    "optimizer = torch.optim.AdamW(model.parameters(), lr=0.001)\n",
    "\n",
    "for iter in range(10000):\n",
    "    xb, yb = get_batch(\"train\")\n",
    "\n",
    "    logits, loss = model(xb, yb)\n",
    "\n",
    "    loss.backward()\n",
    "    optimizer.step()\n",
    "\n",
    "    if iter % 1000 == 0:\n",
    "        print(f\"Train loss: {loss}\")\n"
   ]
  },
  {
   "cell_type": "code",
   "execution_count": 17,
   "metadata": {},
   "outputs": [
    {
     "name": "stdout",
     "output_type": "stream",
     "text": [
      "\n",
      "Gopsote\n",
      "\n",
      "\n",
      "NURDWhiger, mbe cat\n",
      "\n",
      "\n",
      "Ane hau,\n",
      "\n",
      "\n",
      "DWers hin, toke ftop\n",
      "\n",
      "\n",
      "Me phemasther henamis adsh toshed as mashes. s,\n",
      "Fas being bld toureconat y y:\n",
      "Po t m hers,\n",
      "ak I the t fthyo l,\n",
      "\n",
      "\n",
      "Mur:\n",
      "DI ge dutow ffriorptanecablir:\n",
      "\n",
      "Wing l haspouryond set moned d, pestory I inooy ff me.\n",
      "E t! pound,\n",
      "If akne takis st,\n",
      "SALICAnd blis bices. thand marorkenof onld sth plarerdoreawer beendvieano al nel tre h thave gsinot.\n",
      "RYor nd,\n",
      "CEThand, yofowncoto d st with heathige's moll co wrkirs w an ot\n",
      "APlors,\n",
      "Hars s'shig ed grk Youccelale y, n hime way'dingh inoigackean:\n",
      "\n",
      "INCE wave houchanghy horind pay tshe oron an, f teldat tis h y pove.\n",
      "\n",
      "CENI t, hucoks meade hater ches omu d biowr, can! movins.\n",
      "RLo thid wn m art tle tople he.\n",
      "Whe nd.\n",
      "Berursteriknorveviu hel cus s hofered t bise-he my d ange\n",
      "pe, ordere RAwit yod'liokier st, inse, h ad, the PELOut LINO wn youdiers.\n",
      "IO:\n",
      "Dulo, herd st orer s whe amarent!\n",
      "Y:\n",
      "St, t yowit clein th, ay wirdowit msth, ucar tonerooie m sle t, most beis,\n",
      "BEENGHe lld lono hthid ine son! who s\n"
     ]
    }
   ],
   "source": [
    "output = model.generate(torch.zeros((1, 1), dtype=torch.long), 1000)\n",
    "\n",
    "print(decode(output[0].tolist()))\n"
   ]
  },
  {
   "attachments": {},
   "cell_type": "markdown",
   "metadata": {},
   "source": [
    "Not that bad, but far from perfect.\n"
   ]
  },
  {
   "attachments": {},
   "cell_type": "markdown",
   "metadata": {},
   "source": [
    "Naive way to predict next token is by using the mean of all previous token's embeddings.\n",
    "\n",
    "$$ \\hat{x*t} = f(\\Sigma*{i=0}^{t-1} x_i) $$\n"
   ]
  },
  {
   "cell_type": "code",
   "execution_count": 18,
   "metadata": {},
   "outputs": [
    {
     "name": "stdout",
     "output_type": "stream",
     "text": [
      "torch.Size([6, 4])\n",
      "tensor([[1., 1., 1., 1.],\n",
      "        [2., 2., 2., 2.],\n",
      "        [3., 3., 3., 3.],\n",
      "        [4., 4., 4., 4.],\n",
      "        [5., 5., 5., 5.],\n",
      "        [6., 6., 6., 6.]])\n"
     ]
    }
   ],
   "source": [
    "import torch\n",
    "\n",
    "torch.manual_seed(1337)\n",
    "\n",
    "T, C = 6, 4\n",
    "\n",
    "# Let's create a mock sequence of embedded tokens. Let's give each row incrementing values to more easily see what happens.\n",
    "x = torch.arange(1, T + 1).view(-1, 1).repeat(1, C).float()\n",
    "\n",
    "print(x.shape)\n",
    "print(x)\n"
   ]
  },
  {
   "cell_type": "code",
   "execution_count": 19,
   "metadata": {},
   "outputs": [
    {
     "name": "stdout",
     "output_type": "stream",
     "text": [
      "tensor([[1.0000, 1.0000, 1.0000, 1.0000],\n",
      "        [1.5000, 1.5000, 1.5000, 1.5000],\n",
      "        [2.0000, 2.0000, 2.0000, 2.0000],\n",
      "        [2.5000, 2.5000, 2.5000, 2.5000],\n",
      "        [3.0000, 3.0000, 3.0000, 3.0000],\n",
      "        [3.5000, 3.5000, 3.5000, 3.5000]])\n"
     ]
    }
   ],
   "source": [
    "# Slow way, for-loop...\n",
    "\n",
    "\n",
    "def mean(x):\n",
    "    xbow = torch.zeros((T, C))\n",
    "\n",
    "    for t in range(T):  # For each time step in seq.\n",
    "        xprev = x[: t + 1, :]\n",
    "        xbow[t] = torch.mean(xprev, dim=0)\n",
    "\n",
    "    return xbow\n",
    "\n",
    "\n",
    "print(mean(x))\n"
   ]
  },
  {
   "cell_type": "code",
   "execution_count": 20,
   "metadata": {},
   "outputs": [
    {
     "name": "stdout",
     "output_type": "stream",
     "text": [
      "tensor([[1., 0., 0., 0., 0., 0.],\n",
      "        [1., 1., 0., 0., 0., 0.],\n",
      "        [1., 1., 1., 0., 0., 0.],\n",
      "        [1., 1., 1., 1., 0., 0.],\n",
      "        [1., 1., 1., 1., 1., 0.],\n",
      "        [1., 1., 1., 1., 1., 1.]])\n"
     ]
    }
   ],
   "source": [
    "# Fast way - matrix mult!\n",
    "\n",
    "wei = torch.tril(torch.ones(T, T))  # Create lower triangular matrix.\n",
    "print(wei)\n"
   ]
  },
  {
   "cell_type": "code",
   "execution_count": 21,
   "metadata": {},
   "outputs": [
    {
     "name": "stdout",
     "output_type": "stream",
     "text": [
      "tensor([[ 1.,  1.,  1.,  1.],\n",
      "        [ 3.,  3.,  3.,  3.],\n",
      "        [ 6.,  6.,  6.,  6.],\n",
      "        [10., 10., 10., 10.],\n",
      "        [15., 15., 15., 15.],\n",
      "        [21., 21., 21., 21.]])\n"
     ]
    }
   ],
   "source": [
    "# When matmuled with sequence with shape (T, C), we almost get what we want - we get the sum of the rows, but not the mean.\n",
    "print(wei @ x)\n"
   ]
  },
  {
   "cell_type": "code",
   "execution_count": 22,
   "metadata": {},
   "outputs": [
    {
     "name": "stdout",
     "output_type": "stream",
     "text": [
      "tensor([[1.0000, 1.0000, 1.0000, 1.0000],\n",
      "        [1.5000, 1.5000, 1.5000, 1.5000],\n",
      "        [2.0000, 2.0000, 2.0000, 2.0000],\n",
      "        [2.5000, 2.5000, 2.5000, 2.5000],\n",
      "        [3.0000, 3.0000, 3.0000, 3.0000],\n",
      "        [3.5000, 3.5000, 3.5000, 3.5000]])\n"
     ]
    }
   ],
   "source": [
    "# To get the mean instead, we normalize each row to sum to 1.\n",
    "row_norm = wei.sum(dim=1, keepdim=True)\n",
    "wei = wei / row_norm\n",
    "\n",
    "print(wei @ x)\n"
   ]
  },
  {
   "attachments": {},
   "cell_type": "markdown",
   "metadata": {},
   "source": [
    "Let's compare speeds\n"
   ]
  },
  {
   "cell_type": "code",
   "execution_count": 23,
   "metadata": {},
   "outputs": [
    {
     "name": "stdout",
     "output_type": "stream",
     "text": [
      "2.03 µs ± 81.4 ns per loop (mean ± std. dev. of 7 runs, 100,000 loops each)\n"
     ]
    }
   ],
   "source": [
    "%%timeit\n",
    "wei @ x "
   ]
  },
  {
   "cell_type": "code",
   "execution_count": 24,
   "metadata": {},
   "outputs": [
    {
     "name": "stdout",
     "output_type": "stream",
     "text": [
      "81.8 µs ± 5.08 µs per loop (mean ± std. dev. of 7 runs, 10,000 loops each)\n"
     ]
    }
   ],
   "source": [
    "%%timeit\n",
    "mean(x)\n"
   ]
  },
  {
   "attachments": {},
   "cell_type": "markdown",
   "metadata": {},
   "source": [
    "More than 10x faster, and we are not even using the GPU - not bad\n"
   ]
  },
  {
   "attachments": {},
   "cell_type": "markdown",
   "metadata": {},
   "source": [
    "Now, there is one more way to achieve the same outcome using softmax across each row, which normalizes it to sum to 1. To mask out future tokens, we replace their values by -inf first.\n"
   ]
  },
  {
   "cell_type": "code",
   "execution_count": 25,
   "metadata": {},
   "outputs": [
    {
     "name": "stdout",
     "output_type": "stream",
     "text": [
      "tensor([[1.0000, 0.0000, 0.0000, 0.0000, 0.0000, 0.0000],\n",
      "        [0.5000, 0.5000, 0.0000, 0.0000, 0.0000, 0.0000],\n",
      "        [0.3333, 0.3333, 0.3333, 0.0000, 0.0000, 0.0000],\n",
      "        [0.2500, 0.2500, 0.2500, 0.2500, 0.0000, 0.0000],\n",
      "        [0.2000, 0.2000, 0.2000, 0.2000, 0.2000, 0.0000],\n",
      "        [0.1667, 0.1667, 0.1667, 0.1667, 0.1667, 0.1667]])\n",
      "tensor([[1.0000, 1.0000, 1.0000, 1.0000],\n",
      "        [1.5000, 1.5000, 1.5000, 1.5000],\n",
      "        [2.0000, 2.0000, 2.0000, 2.0000],\n",
      "        [2.5000, 2.5000, 2.5000, 2.5000],\n",
      "        [3.0000, 3.0000, 3.0000, 3.0000],\n",
      "        [3.5000, 3.5000, 3.5000, 3.5000]])\n"
     ]
    }
   ],
   "source": [
    "tri = torch.tril(torch.ones(T, T))\n",
    "\n",
    "wei = torch.ones((T, T))\n",
    "wei = wei.masked_fill(tri == 0, -torch.inf)\n",
    "wei = F.softmax(wei, dim=1)\n",
    "\n",
    "print(wei)\n",
    "print(wei @ x)\n"
   ]
  },
  {
   "attachments": {},
   "cell_type": "markdown",
   "metadata": {},
   "source": [
    "The reason this is interesting is because this approach works regardless of the initial values of the weights matrix.\n",
    "\n",
    "We can fill it with random values and still get rows that are normalized to 1:\n"
   ]
  },
  {
   "cell_type": "code",
   "execution_count": 26,
   "metadata": {},
   "outputs": [
    {
     "data": {
      "text/plain": [
       "tensor([[1.0000, 0.0000, 0.0000, 0.0000, 0.0000, 0.0000],\n",
       "        [0.7089, 0.2911, 0.0000, 0.0000, 0.0000, 0.0000],\n",
       "        [0.5166, 0.3210, 0.1624, 0.0000, 0.0000, 0.0000],\n",
       "        [0.1616, 0.3187, 0.1423, 0.3774, 0.0000, 0.0000],\n",
       "        [0.3024, 0.1149, 0.0874, 0.4666, 0.0287, 0.0000],\n",
       "        [0.1292, 0.1173, 0.1132, 0.0494, 0.1582, 0.4326]])"
      ]
     },
     "execution_count": 26,
     "metadata": {},
     "output_type": "execute_result"
    }
   ],
   "source": [
    "wei = torch.randn((T, T))\n",
    "wei = wei.masked_fill(tri == 0, -torch.inf)\n",
    "wei = F.softmax(wei, dim=1)\n",
    "\n",
    "wei\n"
   ]
  },
  {
   "attachments": {},
   "cell_type": "markdown",
   "metadata": {},
   "source": [
    "TODO: Describe how this can be intepreted as affinities, or coupling, between tokens.\n"
   ]
  },
  {
   "attachments": {},
   "cell_type": "markdown",
   "metadata": {},
   "source": [
    "## Self-attention\n"
   ]
  },
  {
   "attachments": {},
   "cell_type": "markdown",
   "metadata": {},
   "source": [
    "Now, can we do better than a simple average of the previous tokens? Indeed we can! We can do a weighted sum, where the weights represent the importance of each token. Even better, we can do a _learned_ weighted sum, where the weights are data-dependent.\n",
    "\n",
    "This is in fact exactly what the mechanism underlying transformers does, so called _self-attention_. It works like this:\n",
    "\n",
    "1. Each token emits three values: 1) a query _Q_, telling other tokens what it is \"looking for\", 2) a key _K_, telling other tokens its own identity, and 3) a value _V_, representing the token in the weighted sum. These are all outputs of learned functions, typically `nn.Linear` layers.\n",
    "2. Every token's query is multiplied through a dot-product with every other token's key, giving the _attention weights_ $\\alpha$.\n",
    "3. The attention weights are used to do a weighted sum of the values to produce the output features.\n",
    "\n",
    "The image below shows a single token's query interacting with the keys and values of the other tokens:\n",
    "\n",
    "![Alt text](./images/attention_example.svg)\n",
    "\n",
    "Remember that for a generative language model like GPT, we only want a given token $x_t$ to interact with the tokens that came before, hence $\\alpha_{i>t} = 0$.\n"
   ]
  },
  {
   "attachments": {},
   "cell_type": "markdown",
   "metadata": {},
   "source": [
    "Like mentioned above, the queries, keys and values are outputs of `nn.Linear` layers.\n"
   ]
  },
  {
   "cell_type": "code",
   "execution_count": 27,
   "metadata": {},
   "outputs": [
    {
     "name": "stdout",
     "output_type": "stream",
     "text": [
      "tensor([[1.0000e+00, 0.0000e+00, 0.0000e+00, 0.0000e+00, 0.0000e+00, 0.0000e+00],\n",
      "        [5.9165e-01, 4.0835e-01, 0.0000e+00, 0.0000e+00, 0.0000e+00, 0.0000e+00],\n",
      "        [3.1789e-01, 6.5987e-02, 6.1612e-01, 0.0000e+00, 0.0000e+00, 0.0000e+00],\n",
      "        [4.5868e-06, 1.2830e-02, 9.8440e-01, 2.7620e-03, 0.0000e+00, 0.0000e+00],\n",
      "        [9.9107e-01, 2.0629e-03, 4.1371e-04, 3.6758e-04, 6.0813e-03, 0.0000e+00],\n",
      "        [9.7590e-01, 6.9176e-03, 1.0155e-03, 5.5064e-03, 2.5252e-03, 8.1350e-03]],\n",
      "       grad_fn=<SoftmaxBackward0>)\n",
      "tensor([[-0.7291,  2.2285,  2.4719,  1.1753,  1.3283, -2.6645,  0.1657, -1.7303,\n",
      "         -1.5886, -1.9180,  0.2320, -1.8639,  0.8100,  2.0086,  1.2171,  0.0767,\n",
      "          1.2085, -1.0426, -2.1063, -0.2117,  0.6198, -2.5657, -3.2720, -2.2933,\n",
      "         -0.4154,  1.4644,  1.3094, -0.0176, -0.9738, -0.8888, -0.6673,  1.0015],\n",
      "        [-0.2837,  1.2334,  1.3860,  0.5857,  0.4858, -1.5227,  0.0211, -1.1075,\n",
      "         -0.8909, -1.2555,  0.1499, -1.0270,  0.5117,  1.2732,  0.5861, -0.1996,\n",
      "          0.7223, -0.4971, -1.3820, -0.3465,  0.3777, -1.7100, -2.0466, -1.5502,\n",
      "         -0.3690,  0.8078,  0.8862,  0.2106, -0.6518, -0.6348, -0.5281,  0.5090],\n",
      "        [ 0.2977,  0.1876,  0.0726,  0.2081, -0.0528, -0.2949, -0.3865, -0.3009,\n",
      "          0.0694, -0.6909, -0.3023, -0.1058,  0.1080,  0.6394, -0.1212, -0.1938,\n",
      "          0.5157,  0.0217, -0.6042, -0.2304,  0.2166, -0.4856, -0.8999, -0.6846,\n",
      "         -0.2085, -0.0767,  0.1212,  0.3455, -0.5194, -0.4361, -0.5517,  0.0694],\n",
      "        [ 0.8136, -0.8152, -1.1234, -0.2430, -0.6968,  0.8724, -0.6831,  0.4165,\n",
      "          0.9066, -0.1011, -0.6012,  0.7623, -0.2458, -0.0197, -0.7830, -0.2975,\n",
      "          0.2056,  0.5392,  0.1355, -0.2139,  0.0274,  0.5686,  0.2517,  0.1143,\n",
      "         -0.0960, -0.8533, -0.4943,  0.5132, -0.3165, -0.2205, -0.5116, -0.3810],\n",
      "        [-0.7193,  2.2076,  2.4455,  1.1656,  1.3139, -2.6418,  0.1576, -1.7133,\n",
      "         -1.5696, -1.9052,  0.2245, -1.8465,  0.8013,  1.9969,  1.2019,  0.0764,\n",
      "          1.2007, -1.0308, -2.0901, -0.2102,  0.6190, -2.5406, -3.2482, -2.2753,\n",
      "         -0.4097,  1.4474,  1.2933, -0.0105, -0.9713, -0.8849, -0.6690,  0.9938],\n",
      "        [-0.7018,  2.1665,  2.4056,  1.1361,  1.2741, -2.5974,  0.1545, -1.6915,\n",
      "         -1.5452, -1.8753,  0.2329, -1.8130,  0.7953,  1.9600,  1.1795,  0.0571,\n",
      "          1.1772, -1.0091, -2.0616, -0.2245,  0.6070, -2.5168, -3.1942, -2.2472,\n",
      "         -0.4157,  1.4233,  1.2855, -0.0033, -0.9549, -0.8756, -0.6546,  0.9701]],\n",
      "       grad_fn=<MmBackward0>)\n"
     ]
    }
   ],
   "source": [
    "head_size = 32\n",
    "\n",
    "x = torch.randn(T, C)\n",
    "\n",
    "key = nn.Linear(C, head_size)\n",
    "query = nn.Linear(C, head_size)\n",
    "value = nn.Linear(C, head_size)\n",
    "\n",
    "k = key(x)  # (T, head_size)\n",
    "q = query(x)  # (T, head_size)\n",
    "v = value(x)  # (T, head_size)\n",
    "\n",
    "wei = q @ k.T  # (T, head_size) @ (head_size, T) = (T, T)\n",
    "wei = wei.masked_fill(tri == 0, -torch.inf)\n",
    "wei = F.softmax(wei, dim=1)\n",
    "\n",
    "print(wei)\n",
    "print(wei @ v)\n"
   ]
  },
  {
   "attachments": {},
   "cell_type": "markdown",
   "metadata": {},
   "source": [
    "In the original transformer paper used a particular implementation of self-attention called _scaled dot-product attention_.\n",
    "\n",
    "$$\n",
    "Attention(Q, K, V) = softmax\\biggl(\\frac{Q K^T}{\\sqrt{d}}V\\biggr)\n",
    "$$\n",
    "\n",
    "<img src=\"./images/scaled_dot_product_attn.svg\" width=\"256\" style=\"margin:auto\"/>\n"
   ]
  },
  {
   "attachments": {},
   "cell_type": "markdown",
   "metadata": {},
   "source": [
    "There is one piece still missing - the scaling by $1/\\sqrt{d_K}$. This is done in order to ensure a that `wei` has unit variance.\n"
   ]
  },
  {
   "cell_type": "code",
   "execution_count": 28,
   "metadata": {},
   "outputs": [
    {
     "name": "stdout",
     "output_type": "stream",
     "text": [
      "tensor(1.0999)\n",
      "tensor(0.9475)\n",
      "tensor(28.0048)\n",
      "tensor(0.8751)\n"
     ]
    }
   ],
   "source": [
    "k = torch.randn(T, head_size)\n",
    "q = torch.randn(T, head_size)\n",
    "wei = q @ k.T\n",
    "wei_norm = wei * 1 / head_size**0.5\n",
    "\n",
    "print(k.var())\n",
    "print(q.var())\n",
    "print(wei.var())\n",
    "print(wei_norm.var())\n"
   ]
  },
  {
   "attachments": {},
   "cell_type": "markdown",
   "metadata": {},
   "source": [
    "Without this normalization, `wei` might not be sufficiently uniform and result in a spiky distribution when fed into the softmax function. This would cause tokens to almost only interact with single other tokens, slowing down learning.\n"
   ]
  },
  {
   "cell_type": "code",
   "execution_count": 29,
   "metadata": {},
   "outputs": [],
   "source": [
    "attn = F.softmax(wei.masked_fill(tri == 0, -torch.inf), dim=1)\n",
    "attn_norm = F.softmax(wei_norm.masked_fill(tri == 0, -torch.inf), dim=1)\n"
   ]
  },
  {
   "cell_type": "code",
   "execution_count": 30,
   "metadata": {},
   "outputs": [
    {
     "data": {
      "image/png": "[encoded data removed]",
      "text/plain": [
       "<Figure size 640x480 with 2 Axes>"
      ]
     },
     "metadata": {},
     "output_type": "display_data"
    }
   ],
   "source": [
    "import numpy as np\n",
    "import matplotlib.pyplot as plt\n",
    "\n",
    "fig, axs = plt.subplots(1, 2, layout=\"constrained\")\n",
    "axs[0].imshow(attn)\n",
    "axs[1].imshow(attn_norm)\n",
    "axs[0].title.set_text(\"Without normalization\")\n",
    "axs[1].title.set_text(\"With normalization\")\n",
    "fig.suptitle(\"Attention weight matrix\")\n",
    "plt.show()\n"
   ]
  },
  {
   "cell_type": "code",
   "execution_count": 50,
   "metadata": {},
   "outputs": [],
   "source": [
    "class ScaledDotProductAttention(nn.Module):\n",
    "    def __init__(self, emb_size, head_size, block_size) -> None:\n",
    "        super().__init__()\n",
    "\n",
    "        self.head_size = head_size\n",
    "\n",
    "        self.query = nn.Linear(emb_size, head_size, bias=False)\n",
    "        self.key = nn.Linear(emb_size, head_size, bias=False)\n",
    "        self.value = nn.Linear(emb_size, head_size, bias=False)\n",
    "\n",
    "        self.register_buffer(\"tri\", torch.tril(torch.ones(block_size, block_size)))\n",
    "\n",
    "    def forward(self, x):\n",
    "        B, T, C = x.shape\n",
    "\n",
    "        q = self.query(x)  # (B, T, head_size)\n",
    "        k = self.key(x)  # (B, T, head_size)\n",
    "        v = self.value(x)  # (B, T, head_size)\n",
    "\n",
    "        wei = q @ k.transpose(-2, -1)  # (B, T, head_size) @ (B, head_size, T) = (B, T, T)\n",
    "        wei = wei.masked_fill(self.tri[:T, :T] == 0, -torch.inf)\n",
    "        wei = F.softmax(wei, dim=1)\n",
    "\n",
    "        return wei @ v  # (B, T, T) @ (B, T, head_size) = (B, T, head_size)\n"
   ]
  },
  {
   "attachments": {},
   "cell_type": "markdown",
   "metadata": {},
   "source": [
    "Self-attention is typically combined with other layers to form a transformer block. Here is an example of a simple such block: \n"
   ]
  },
  {
   "cell_type": "code",
   "execution_count": 51,
   "metadata": {},
   "outputs": [],
   "source": [
    "class TransformerBlock(nn.Module):\n",
    "    def __init__(self, emb_size, head_size, num_heads=4, block_size=32) -> None:\n",
    "        super().__init__()\n",
    "\n",
    "        self.heads = nn.ModuleList(ScaledDotProductAttention(emb_size, head_size, block_size) for _ in range(num_heads))\n",
    "        self.mlp = nn.Linear(head_size * num_heads, emb_size)\n",
    "\n",
    "    def forward(self, x):\n",
    "        emb_cat = torch.cat([head(x) for head in self.heads], dim=-1)\n",
    "        out = self.mlp(emb_cat)\n",
    "\n",
    "        return out\n"
   ]
  },
  {
   "attachments": {},
   "cell_type": "markdown",
   "metadata": {},
   "source": [
    "Multiple transformer blocks can be stacked on top of each other to form a deeper network:\n"
   ]
  },
  {
   "cell_type": "code",
   "execution_count": 56,
   "metadata": {},
   "outputs": [
    {
     "name": "stdout",
     "output_type": "stream",
     "text": [
      "tensor([[[-1.0784e-01,  1.1336e-03],\n",
      "         [ 5.7909e-01,  7.5903e-01],\n",
      "         [ 4.5702e-01, -5.4675e-02],\n",
      "         [ 1.8800e+00, -1.3266e+00]]])\n",
      "tensor([[[ 0.0477,  0.0864],\n",
      "         [-0.0454,  0.0400],\n",
      "         [-0.0192,  0.0496],\n",
      "         [-0.2259,  0.0458]]], grad_fn=<ViewBackward0>)\n",
      "tensor([[[ 0.0960, -0.0463],\n",
      "         [ 0.0965, -0.0469],\n",
      "         [ 0.1010, -0.0480],\n",
      "         [ 0.0693, -0.0522]]], grad_fn=<ViewBackward0>)\n",
      "tensor([[[ 0.0270, -0.0684],\n",
      "         [ 0.0125, -0.0672],\n",
      "         [-0.0103, -0.0650],\n",
      "         [-0.0358, -0.0682]]], grad_fn=<ViewBackward0>)\n",
      "tensor([[[-0.0559, -0.0597],\n",
      "         [-0.0505, -0.0669],\n",
      "         [-0.0436, -0.0733],\n",
      "         [-0.0315, -0.0776]]], grad_fn=<ViewBackward0>)\n"
     ]
    }
   ],
   "source": [
    "B, T, C = 1, 4, 2\n",
    "x0 = torch.randn(B, T, C)\n",
    "\n",
    "num_blocks = 4\n",
    "blocks = [TransformerBlock(C, head_size=32, num_heads=4, block_size=32) for _ in range(num_blocks)]\n",
    "\n",
    "xs = [x0]\n",
    "for block in blocks:\n",
    "    x = block(xs[-1])\n",
    "    xs.append(x)\n",
    "\n",
    "print(\"\\n\".join([str(x) for x in xs]))\n"
   ]
  },
  {
   "attachments": {},
   "cell_type": "markdown",
   "metadata": {},
   "source": [
    "## Transformer implementation\n"
   ]
  },
  {
   "cell_type": "markdown",
   "metadata": {},
   "source": []
  }
 ],
 "metadata": {
  "kernelspec": {
   "display_name": "venv",
   "language": "python",
   "name": "python3"
  },
  "language_info": {
   "codemirror_mode": {
    "name": "ipython",
    "version": 3
   },
   "file_extension": ".py",
   "mimetype": "text/x-python",
   "name": "python",
   "nbconvert_exporter": "python",
   "pygments_lexer": "ipython3",
   "version": "3.8.10"
  },
  "orig_nbformat": 4
 },
 "nbformat": 4,
 "nbformat_minor": 2
}
